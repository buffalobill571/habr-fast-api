{
 "cells": [
  {
   "cell_type": "code",
   "execution_count": 9,
   "metadata": {},
   "outputs": [
    {
     "name": "stdout",
     "output_type": "stream",
     "text": [
      "119776\n"
     ]
    }
   ],
   "source": [
    "from app.models.post import Post\n",
    "from app.db.session import Session\n",
    "from app.schemas.post import Post as PostSchema\n",
    "from fastapi.encoders import jsonable_encoder\n",
    "\n",
    "\n",
    "session = Session()\n",
    "print(session.query(Post).count())"
   ]
  }
 ],
 "metadata": {
  "kernelspec": {
   "display_name": "Python 3",
   "language": "python",
   "name": "python3"
  },
  "language_info": {
   "codemirror_mode": {
    "name": "ipython",
    "version": 3
   },
   "file_extension": ".py",
   "mimetype": "text/x-python",
   "name": "python",
   "nbconvert_exporter": "python",
   "pygments_lexer": "ipython3",
   "version": "3.7.6"
  }
 },
 "nbformat": 4,
 "nbformat_minor": 4
}
