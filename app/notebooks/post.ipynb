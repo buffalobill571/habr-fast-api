{
 "cells": [
  {
   "cell_type": "code",
   "execution_count": 2,
   "metadata": {},
   "outputs": [],
   "source": [
    "from app.models.post import Post\n",
    "from app.db.session import Session\n",
    "from app.schemas.post import Post as PostSchema\n",
    "from fastapi.encoders import jsonable_encoder"
   ]
  },
  {
   "cell_type": "code",
   "execution_count": 3,
   "metadata": {},
   "outputs": [
    {
     "name": "stdout",
     "output_type": "stream",
     "text": [
      "228512\n",
      "None\n"
     ]
    }
   ],
   "source": [
    "session = Session()\n",
    "print(session.query(Post).count())\n",
    "# print(session.rollback())"
   ]
  },
  {
   "cell_type": "code",
   "execution_count": 25,
   "metadata": {},
   "outputs": [],
   "source": [
    "import sqlite3\n",
    "\n",
    "\n",
    "conn = sqlite3.connect('/app/habr.db')\n",
    "cursor = conn.cursor()\n",
    "session = Session()\n",
    "\n",
    "cursor.execute('select id, title, content, author, tags_string, time_published, comments_count, reading_count, score, is_tutorial from habr')\n",
    "\n",
    "while True:\n",
    "    raw = cursor.fetchone()\n",
    "    if not raw:\n",
    "        break\n",
    "    data = {\n",
    "        'id': raw[0],\n",
    "        'title': raw[1],\n",
    "        'content': raw[2],\n",
    "        'author': raw[3],\n",
    "        'tags_string': raw[4],\n",
    "        'time_published': raw[5],\n",
    "        'comments_count': raw[6],\n",
    "        'reading_count': raw[7],\n",
    "        'score': raw[8],\n",
    "        'is_tutorial': raw[9],\n",
    "    }\n",
    "    post = PostSchema(**data)\n",
    "    if session.query(Post).filter(Post.id == post.id).first():\n",
    "        continue\n",
    "    session.add(Post(**post.dict()))\n",
    "    session.commit()\n"
   ]
  }
 ],
 "metadata": {
  "kernelspec": {
   "display_name": "Python 3",
   "language": "python",
   "name": "python3"
  },
  "language_info": {
   "codemirror_mode": {
    "name": "ipython",
    "version": 3
   },
   "file_extension": ".py",
   "mimetype": "text/x-python",
   "name": "python",
   "nbconvert_exporter": "python",
   "pygments_lexer": "ipython3",
   "version": "3.7.6"
  }
 },
 "nbformat": 4,
 "nbformat_minor": 4
}
